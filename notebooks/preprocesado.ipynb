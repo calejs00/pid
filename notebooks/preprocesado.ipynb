{
 "cells": [
  {
   "cell_type": "code",
   "execution_count": null,
   "id": "deea3d7e",
   "metadata": {},
   "outputs": [],
   "source": [
    "import xarray as xr\n",
    "import netCDF4\n",
    "import numpy as np\n",
    "import matplotlib.pyplot as plt\n",
    "import cartopy.crs as ccrs\n",
    "import cartopy.feature as cfeature\n",
    "import pandas as pd\n",
    "import xesmf as xe\n",
    "from pathlib import Path\n",
    "import itertools\n",
    "from shapely.geometry import Point\n",
    "from shapely.ops import unary_union\n",
    "from shapely.prepared import prep"
   ]
  },
  {
   "cell_type": "markdown",
   "id": "1c1416a1",
   "metadata": {},
   "source": [
    "Cargamos los modelos en un dataxarray"
   ]
  },
  {
   "cell_type": "code",
   "execution_count": null,
   "id": "1b1af3cc",
   "metadata": {},
   "outputs": [],
   "source": [
    "def abrir_modelos(variable, ruta_base=None):\n",
    "    \"\"\"\n",
    "    Abrir todos los archivos .nc en la subcarpeta correspondiente a la variable dentro de 'modelos'\n",
    "\n",
    "    Args:  \n",
    "      variable (str): nombre de la variable (subcarpeta dentro de 'modelos').\n",
    "      ruta_base (str, opcional): ruta base donde se encuentra la carpeta 'modelos'.\n",
    "                                 Si no se proporciona, se asume que está en el mismo\n",
    "                                 directorio que este script.\n",
    "    Returns:\n",
    "      list[xarray.Dataset]: lista con los datasets abiertos.\n",
    "\n",
    "    Raises:\n",
    "      FileNotFoundError: si la carpeta no existe o no contiene archivos .nc.\n",
    "    \"\"\"\n",
    "    try:\n",
    "        base = Path(__file__).parent  # disponible si se ejecuta como script\n",
    "    except NameError:\n",
    "        base = Path.cwd()\n",
    "    # Resolver ruta_base: por defecto 'modelos' relativa a este archivo,\n",
    "    # pero permite pasar una ruta absoluta o relativa si se desea.\n",
    "    if ruta_base:\n",
    "        modelos_root = Path(ruta_base)\n",
    "        if not modelos_root.is_absolute():\n",
    "            modelos_root = base / modelos_root\n",
    "    else:\n",
    "        modelos_root = base / 'modelos'\n",
    "\n",
    "    ruta_variable = modelos_root / variable\n",
    "    if not ruta_variable.exists() or not ruta_variable.is_dir():\n",
    "        raise FileNotFoundError(f\"No existe la carpeta de la variable: {ruta_variable}\")\n",
    "\n",
    "    nc_files = sorted(ruta_variable.glob('*.nc'))\n",
    "    if not nc_files:\n",
    "        raise FileNotFoundError(f\"No se encontraron archivos .nc en {ruta_variable}\")\n",
    "\n",
    "    modelos = [xr.open_dataset(str(archivo)) for archivo in nc_files]\n",
    "\n",
    "    print(f\"Se abrieron {len(modelos)} modelos para la variable '{variable}'.\")\n",
    "    return modelos"
   ]
  },
  {
   "cell_type": "code",
   "execution_count": null,
   "id": "34d7ff51",
   "metadata": {},
   "outputs": [],
   "source": [
    "modelos_clt = abrir_modelos('clt')\n",
    "modelos_pr = abrir_modelos('pr')\n",
    "modelos_rsds = abrir_modelos('rsds')\n",
    "modelos_sfcWind = abrir_modelos('sfcWind')\n",
    "modelos_tas = abrir_modelos('tas')"
   ]
  },
  {
   "cell_type": "markdown",
   "id": "8f98891a",
   "metadata": {},
   "source": [
    "Como los modelos tienen diferentes tamamaños de grids, vemos el tamaño de los grids de cada modelo y lo convertimos todos en el mismo tamaño"
   ]
  },
  {
   "cell_type": "code",
   "execution_count": null,
   "id": "2280bd0d",
   "metadata": {},
   "outputs": [],
   "source": [
    "def info_grids(modelos):\n",
    "    \"\"\"\n",
    "    Dada una lista de modelos (xarray.Dataset),\n",
    "    devuelve un resumen con el tamaño y nombre de las coordenadas de cada grid.\n",
    "    \"\"\"\n",
    "    info = []\n",
    "    for i, ds in enumerate(modelos, start=1):\n",
    "        # Buscar posibles nombres de coordenadas de lat/lon\n",
    "        lat_name = next((c for c in ds.coords if 'lat' in c.lower()), None)\n",
    "        lon_name = next((c for c in ds.coords if 'lon' in c.lower()), None)\n",
    "        \n",
    "        if lat_name and lon_name:\n",
    "            lat_size = ds[lat_name].size\n",
    "            lon_size = ds[lon_name].size\n",
    "            info.append({\n",
    "                'modelo': i,\n",
    "                'lat_name': lat_name,\n",
    "                'lon_name': lon_name,\n",
    "                'lat_size': lat_size,\n",
    "                'lon_size': lon_size\n",
    "            })\n",
    "        else:\n",
    "            info.append({\n",
    "                'modelo': i,\n",
    "                'lat_name': lat_name,\n",
    "                'lon_name': lon_name,\n",
    "                'error': 'No se encontraron coordenadas lat/lon'\n",
    "            })\n",
    "    \n",
    "    return info\n"
   ]
  },
  {
   "cell_type": "markdown",
   "id": "d63b435c",
   "metadata": {},
   "source": [
    "Con mirar la lista para uno es suficiente ya que al usar los mismos modelos, en todos tendrían que tener el mismo tamaño"
   ]
  },
  {
   "cell_type": "code",
   "execution_count": null,
   "id": "82d63949",
   "metadata": {},
   "outputs": [],
   "source": [
    "grids_info = info_grids(modelos_clt)\n",
    "for g in grids_info:\n",
    "    print(g)"
   ]
  },
  {
   "cell_type": "code",
   "execution_count": null,
   "id": "7be1c24e",
   "metadata": {},
   "outputs": [],
   "source": [
    "def regrid_all(modelos, var_name, ref_index):\n",
    "    \"\"\"\n",
    "    Regridea todas las variables 'var_name' de los modelos\n",
    "    al grid del modelo de referencia indicado por ref_index.\n",
    "\n",
    "    Args:\n",
    "        modelos : list[xarray.Dataset | xarray.DataArray]\n",
    "            Lista de modelos.\n",
    "        var_name : str\n",
    "            Nombre de la variable a regridear\n",
    "        ref_index : int\n",
    "            Índice del modelo de referencia en la lista\n",
    "    \n",
    "    Returns:\n",
    "        list[xarray.DataArray]\n",
    "    \"\"\"\n",
    "    regridded = []\n",
    "    ref_model = modelos[ref_index]\n",
    "    ref_grid = ref_model[var_name] if hasattr(ref_model, 'data_vars') else ref_model\n",
    "\n",
    "    for i, model in enumerate(modelos):\n",
    "        print(f\"Procesando modelo {i} de {var_name}\")\n",
    "        data = model[var_name] if hasattr(model, 'data_vars') else model\n",
    "        \n",
    "        if i == ref_index:\n",
    "            regridded.append(data)\n",
    "        else:\n",
    "            regridder = xe.Regridder(\n",
    "                data,\n",
    "                ref_grid,\n",
    "                method='bilinear',\n",
    "                extrap_method='nearest_s2d',\n",
    "                reuse_weights=False\n",
    "            )\n",
    "            regridded.append(regridder(data))\n",
    "    \n",
    "    return regridded"
   ]
  },
  {
   "cell_type": "code",
   "execution_count": null,
   "id": "c8aa68f0",
   "metadata": {},
   "outputs": [],
   "source": [
    "clt_regridded = regrid_all(modelos_clt, 'clt', 3)\n",
    "pr_regridded = regrid_all(modelos_pr, 'pr', 3)\n",
    "rsds_regridded = regrid_all(modelos_rsds, 'rsds', 3)\n",
    "sfcWind_regridded = regrid_all(modelos_sfcWind, 'sfcWind', 3)\n",
    "tas_regridded = regrid_all(modelos_tas, 'tas', 3)\n"
   ]
  },
  {
   "cell_type": "markdown",
   "id": "e89fcb64",
   "metadata": {},
   "source": [
    "Comprobar que efectivamente lo hicimos bien y tienen todos tamaño: 192x288"
   ]
  },
  {
   "cell_type": "code",
   "execution_count": null,
   "id": "7dd9f20d",
   "metadata": {},
   "outputs": [],
   "source": [
    "primeros = [\n",
    "    clt_regridded[0],\n",
    "    pr_regridded[0],\n",
    "    rsds_regridded[0],\n",
    "    sfcWind_regridded[0],\n",
    "    tas_regridded[0]\n",
    "]\n",
    "grids_info = info_grids(primeros)\n",
    "for g in grids_info:\n",
    "    print(g)\n"
   ]
  },
  {
   "cell_type": "markdown",
   "id": "24a11ca1",
   "metadata": {},
   "source": [
    "Calculo de medias mensuales"
   ]
  },
  {
   "cell_type": "code",
   "execution_count": null,
   "id": "fa39e56c",
   "metadata": {},
   "outputs": [],
   "source": [
    "def calc_monthly_means(modelos, var_name=None, start='1950-01-01', end='1980-12-31'):\n",
    "    \"\"\"\n",
    "    Calcula la media mensual para una lista de modelos en el intervalo especificado.\n",
    "\n",
    "    Args\n",
    "        modelos : list[xarray.Dataset | xarray.DataArray]\n",
    "            Lista de modelos o variables.\n",
    "        var_name : str | None\n",
    "            Nombre de la variable si los elementos son Datasets.\n",
    "            Si ya son DataArray, déjalo en None.\n",
    "        start, end : str\n",
    "            Fechas para el rango temporal (slice).\n",
    "\n",
    "    Returns:\n",
    "        list[xarray.DataArray]\n",
    "            Lista con las medias mensuales de cada modelo.\n",
    "    \"\"\"\n",
    "    monthly_means = []\n",
    "    \n",
    "    for i, model in enumerate(modelos):\n",
    "\n",
    "        # Extrae la variable si es Dataset\n",
    "        data = model[var_name] if (var_name and hasattr(model, 'data_vars')) else model\n",
    "        \n",
    "        # Selección temporal y promedio mensual\n",
    "        mean_month = (\n",
    "            data\n",
    "            .sel(time=slice(start, end))\n",
    "            .groupby('time.month')\n",
    "            .mean('time')\n",
    "        )\n",
    "        \n",
    "        monthly_means.append(mean_month)\n",
    "    \n",
    "    return monthly_means\n"
   ]
  },
  {
   "cell_type": "code",
   "execution_count": null,
   "id": "101f4411",
   "metadata": {},
   "outputs": [],
   "source": [
    "clt_monthly_means = calc_monthly_means(clt_regridded, start='1950-01-01', end='1980-12-31')\n",
    "pr_monthly_means = calc_monthly_means(pr_regridded, start='1950-01-01', end='1980-12-31')\n",
    "rsds_monthly_means = calc_monthly_means(rsds_regridded, start='1950-01-01', end='1980-12-31')\n",
    "sfcWind_monthly_means = calc_monthly_means(sfcWind_regridded, start='1950-01-01', end='1980-12-31')\n",
    "tas_monthly_means = calc_monthly_means(tas_regridded, start='1950-01-01', end='1980-12-31')\n"
   ]
  },
  {
   "cell_type": "markdown",
   "id": "76ca36cd",
   "metadata": {},
   "source": [
    "Ahora calculamos la medía del ensemble, es decir, entre todos los modelos que tenemos para cada variable sacamos la medía"
   ]
  },
  {
   "cell_type": "code",
   "execution_count": null,
   "id": "c5d06026",
   "metadata": {},
   "outputs": [],
   "source": [
    "def ensemble_mean(models_monthly):\n",
    "    \"\"\"\n",
    "    Calcula la media del ensemble (promedio entre modelos)\n",
    "    \n",
    "    Parámetros\n",
    "    ----------\n",
    "    models_monthly : list[xarray.DataArray]\n",
    "        Lista de DataArrays con las medias mensuales de cada modelo.\n",
    "    \n",
    "    Retorna\n",
    "    -------\n",
    "    xarray.DataArray\n",
    "        DataArray con el promedio del ensemble.\n",
    "    \"\"\"\n",
    "    combined = xr.concat(models_monthly, dim='model')\n",
    "    return combined.mean(dim='model')"
   ]
  },
  {
   "cell_type": "code",
   "execution_count": null,
   "id": "f62eab11",
   "metadata": {},
   "outputs": [],
   "source": [
    "clt_ensemble_mean = ensemble_mean(clt_monthly_means)\n",
    "pr_ensemble_mean = ensemble_mean(pr_monthly_means)\n",
    "rsds_ensemble_mean = ensemble_mean(rsds_monthly_means)\n",
    "sfcWind_ensemble_mean = ensemble_mean(sfcWind_monthly_means)\n",
    "tas_ensemble_mean = ensemble_mean(tas_monthly_means)"
   ]
  },
  {
   "cell_type": "markdown",
   "id": "b1af2c9f",
   "metadata": {},
   "source": [
    "Exportar los datos a un .csv\n"
   ]
  },
  {
   "cell_type": "code",
   "execution_count": null,
   "id": "13f02156",
   "metadata": {},
   "outputs": [],
   "source": [
    "# Creamos las combinaciones lat-lon-time a partir de uno de los DataArray\n",
    "lat = clt_ensemble_mean['lat'].values\n",
    "lon = clt_ensemble_mean['lon'].values\n",
    "time = clt_ensemble_mean['month'].values\n",
    "\n",
    "# Crear el índice combinando todas las coordenadas\n",
    "index = [f\"{t}_{la}_{lo}\" for t, la, lo in itertools.product(time, lat, lon)]"
   ]
  },
  {
   "cell_type": "code",
   "execution_count": null,
   "id": "bea3a690",
   "metadata": {},
   "outputs": [],
   "source": [
    "df = pd.DataFrame({\n",
    "    'clt_ensemble_mean': clt_ensemble_mean.values.flatten(),\n",
    "    'pr_ensemble_mean': pr_ensemble_mean.values.flatten(),\n",
    "    'rsds_ensemble_mean': rsds_ensemble_mean.values.flatten(),\n",
    "    'sfcWind_ensemble_mean': sfcWind_ensemble_mean.values.flatten(),\n",
    "    'tas_ensemble_mean': tas_ensemble_mean.values.flatten()\n",
    "}, index=index)"
   ]
  },
  {
   "cell_type": "code",
   "execution_count": null,
   "id": "55130e63",
   "metadata": {},
   "outputs": [],
   "source": [
    "df.to_csv('ensemble_modelos.csv', index=True)"
   ]
  },
  {
   "cell_type": "markdown",
   "id": "ab0fac21",
   "metadata": {},
   "source": [
    "Exportar los datos a un .nc:"
   ]
  },
  {
   "cell_type": "code",
   "execution_count": null,
   "id": "dbd6209b",
   "metadata": {},
   "outputs": [],
   "source": [
    "# Asignar nombres\n",
    "clt_ensemble_mean.name = 'clt_ensemble_mean'\n",
    "pr_ensemble_mean.name = 'pr_ensemble_mean'\n",
    "rsds_ensemble_mean.name = 'rsds_ensemble_mean'\n",
    "sfcWind_ensemble_mean.name = 'sfcWind_ensemble_mean'\n",
    "tas_ensemble_mean.name = 'tas_ensemble_mean'\n",
    "\n",
    "# Combinar todos los DataArray en un Dataset\n",
    "ds = xr.merge([\n",
    "    clt_ensemble_mean,\n",
    "    pr_ensemble_mean,\n",
    "    rsds_ensemble_mean,\n",
    "    sfcWind_ensemble_mean,\n",
    "    tas_ensemble_mean\n",
    "], compat='override')\n",
    "\n",
    "# Añadir metadatos generales\n",
    "ds.attrs = {\n",
    "    'title': 'Climate Variable Ensemble Means',\n",
    "    'description': 'Ensemble means calculated from monthly means for CLT, PR, RSDS, sfcWind, and TAS.',\n",
    "    'author': '123',\n",
    "    'Conventions': 'CF-1.8'\n",
    "}\n",
    "\n",
    "# Guardar a archivo NetCDF con compresión\n",
    "encoding = {var: {\"zlib\": True, \"complevel\": 4} for var in ds.data_vars}\n",
    "ds.to_netcdf(\"ensemble_modelos.nc\", encoding=encoding)\n"
   ]
  },
  {
   "cell_type": "markdown",
   "id": "d7e2c78d",
   "metadata": {},
   "source": [
    "Añadir los datos a un archivo .nc donde solo almacenamos las zonas terrestres y cortamos en los extremos (para nuestro objetivo hemos comprobado que las latitudes extremas generan datos demasiado desbalanceados que no nos interesan):"
   ]
  },
  {
   "cell_type": "code",
   "execution_count": null,
   "id": "8b5585ba",
   "metadata": {},
   "outputs": [],
   "source": [
    "lat = ds['lat'].values\n",
    "lon = ds['lon'].values\n",
    "\n",
    "# Mantener lon 0–360 y ordenarlas de oeste→este\n",
    "lon_fixed = np.mod(lon, 360)\n",
    "sort_idx = np.argsort(lon_fixed)\n",
    "lon_fixed = lon_fixed[sort_idx]\n",
    "\n",
    "# Reordenar dataset según longitudes corregidas\n",
    "ds = ds.isel(lon=sort_idx)\n",
    "ds = ds.assign_coords(lon=lon_fixed)\n",
    "\n",
    "# Asegurar que las latitudes van de sur→norte\n",
    "if np.any(np.diff(ds.lat.values) < 0):\n",
    "    ds = ds.reindex(lat=list(reversed(ds.lat)))\n",
    "\n",
    "# Asegurar orden correcto de dimensiones\n",
    "for var in ds.data_vars:\n",
    "    dims = ds[var].dims\n",
    "    if 'lat' in dims and 'lon' in dims:\n",
    "        other_dims = [d for d in dims if d not in ('lat', 'lon')]\n",
    "        ds[var] = ds[var].transpose('lat', 'lon', *other_dims)\n",
    "\n",
    "\n",
    "# Creamos máscara de tierra \n",
    "land_geom = cfeature.NaturalEarthFeature('physical', 'land', '110m').geometries() #con nuestros datos 110m es suficiente resolución\n",
    "land_union = prep(unary_union(list(land_geom)))\n",
    "\n",
    "# meshgrid con orden (lat, lon)\n",
    "lat_grid, lon_grid = np.meshgrid(ds.lat.values, ds.lon.values, indexing=\"ij\")\n",
    "mask = np.zeros((len(ds.lat), len(ds.lon)), dtype=bool)\n",
    "\n",
    "# Usar lon -180–180 solo internamente para comprobar tierra\n",
    "for i in range(len(ds.lat)):\n",
    "    for j in range(len(ds.lon)):\n",
    "        lon_check = lon_grid[i, j] if lon_grid[i, j] <= 180 else lon_grid[i, j] - 360\n",
    "        mask[i, j] = land_union.contains(Point(lon_check, lat_grid[i, j]))\n",
    "\n",
    "mask_da = xr.DataArray(mask, coords=[ds.lat, ds.lon], dims=[\"lat\", \"lon\"])\n",
    "\n",
    "\n",
    "# Creamos máscara de latitudes extremas (-60 < lat > 45)\n",
    "arctic_mask = (ds.lat < -60) | (ds.lat > 45)\n",
    "arctic_mask_2d = arctic_mask.broadcast_like(mask_da)\n",
    "\n",
    "# Aplicamos las máscaras\n",
    "combined_mask = mask_da & ~arctic_mask_2d\n",
    "ds_land = ds.where(combined_mask)  # Océanos y latitudes extremas → NaN\n",
    "\n",
    "#  Añadir atributos CF correctos\n",
    "ds_land['lon'].attrs = {\n",
    "    'standard_name': 'longitude',\n",
    "    'long_name': 'longitude',\n",
    "    'units': 'degrees_east',\n",
    "    'axis': 'X'\n",
    "}\n",
    "ds_land['lat'].attrs = {\n",
    "    'standard_name': 'latitude',\n",
    "    'long_name': 'latitude',\n",
    "    'units': 'degrees_north',\n",
    "    'axis': 'Y'\n",
    "}\n",
    "\n",
    "#  Metadatos globales\n",
    "ds_land.attrs = ds.attrs\n",
    "ds_land.attrs[\"description\"] = (\n",
    "    ds.attrs.get(\"description\", \"\")\n",
    "    + \" (solo regiones terrestres excluyendo Ártico >60°N, orientado correctamente, lon 0–360)\"\n",
    ")\n",
    "ds_land.attrs[\"note\"] = (\n",
    "    \"Cumple CF-1.8: latitudes de sur→norte, longitudes de 0–360 de oeste→este, \"\n",
    "    \"coordenadas con atributos estándar. Excluye océanos y regiones árticas (lat > 60°N).\"\n",
    ")\n",
    "\n",
    "# Guardar a NetCDF comprimido\n",
    "encoding = {var: {\"zlib\": True, \"complevel\": 4} for var in ds_land.data_vars}\n",
    "output_name = \"ensemble_modelos_land_temp.nc\"\n",
    "ds_land.to_netcdf(output_name, encoding=encoding)\n",
    "\n",
    "print(f\"Archivo guardado correctamente: {output_name}\")"
   ]
  }
 ],
 "metadata": {
  "kernelspec": {
   "display_name": "solarProject",
   "language": "python",
   "name": "python3"
  },
  "language_info": {
   "codemirror_mode": {
    "name": "ipython",
    "version": 3
   },
   "file_extension": ".py",
   "mimetype": "text/x-python",
   "name": "python",
   "nbconvert_exporter": "python",
   "pygments_lexer": "ipython3",
   "version": "3.11.13"
  }
 },
 "nbformat": 4,
 "nbformat_minor": 5
}
