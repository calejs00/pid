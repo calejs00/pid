{
 "cells": [
  {
   "cell_type": "code",
   "execution_count": 1,
   "id": "aeeff35a",
   "metadata": {},
   "outputs": [],
   "source": [
    "import xarray as xr\n",
    "import netCDF4\n",
    "import numpy as np\n",
    "import matplotlib.pyplot as plt\n",
    "import cartopy.crs as ccrs\n",
    "import cartopy.feature as cfeature"
   ]
  },
  {
   "cell_type": "code",
   "execution_count": 25,
   "id": "3ff2dad7",
   "metadata": {},
   "outputs": [
    {
     "name": "stderr",
     "output_type": "stream",
     "text": [
      "c:\\Users\\clara\\AppData\\Local\\Programs\\Python\\Python313\\Lib\\site-packages\\xarray\\conventions.py:204: SerializationWarning: variable 'clt' has multiple fill values {np.float32(1e+20), np.float64(1e+20)} defined, decoding all values to NaN.\n",
      "  var = coder.decode(var, name=name)\n"
     ]
    }
   ],
   "source": [
    "#Abro los 10 datasets\n",
    "clt_model1 = xr.open_dataset(r\"..\\modelos\\clt\\clt_Amon_ACCESS-CM2_historical_r1i1p1f1_gn_185001-201412.nc\")\n",
    "clt_model2 = xr.open_dataset(r\"..\\modelos\\clt\\clt_Amon_ACCESS-ESM1-5_historical_r1i1p1f1_gn_185001-201412.nc\")\n",
    "clt_model3 = xr.open_dataset(r\"..\\modelos\\clt\\clt_Amon_CanESM5_historical_r1i1p1f1_gn_185001-201412.nc\")\n",
    "clt_model4 = xr.open_dataset(r\"..\\modelos\\clt\\clt_Amon_CESM2-WACCM_historical_r1i1p1f1_gn_185001-201412.nc\")\n",
    "clt_model5 = xr.open_dataset(r\"..\\modelos\\clt\\clt_Amon_CMCC-CM2-SR5_historical_r1i1p1f1_gn_185001-201412.nc\")\n",
    "clt_model6 = xr.open_dataset(r\"..\\modelos\\clt\\clt_Amon_FIO-ESM-2-0_historical_r1i1p1f1_gn_185001-201412.nc\")\n",
    "clt_model7 = xr.open_dataset(r\"..\\modelos\\clt\\clt_Amon_MRI-ESM2-0_historical_r1i1p1f1_gn_185001-201412.nc\")\n",
    "clt_model8 = xr.open_dataset(r\"..\\modelos\\clt\\clt_Amon_TaiESM1_historical_r1i1p1f1_gn_185001-201412.nc\")"
   ]
  },
  {
   "cell_type": "code",
   "execution_count": 26,
   "id": "28193393",
   "metadata": {},
   "outputs": [
    {
     "name": "stdout",
     "output_type": "stream",
     "text": [
      "<xarray.Dataset> Size: 219MB\n",
      "Dimensions:    (time: 1980, bnds: 2, lat: 144, lon: 192)\n",
      "Coordinates:\n",
      "  * time       (time) datetime64[ns] 16kB 1850-01-16T12:00:00 ... 2014-12-16T...\n",
      "  * lat        (lat) float64 1kB -89.38 -88.12 -86.88 ... 86.88 88.12 89.38\n",
      "  * lon        (lon) float64 2kB 0.9375 2.812 4.688 6.562 ... 355.3 357.2 359.1\n",
      "Dimensions without coordinates: bnds\n",
      "Data variables:\n",
      "    time_bnds  (time, bnds) datetime64[ns] 32kB ...\n",
      "    lat_bnds   (lat, bnds) float64 2kB ...\n",
      "    lon_bnds   (lon, bnds) float64 3kB ...\n",
      "    clt        (time, lat, lon) float32 219MB ...\n",
      "Attributes: (12/47)\n",
      "    Conventions:            CF-1.7 CMIP-6.2\n",
      "    activity_id:            CMIP\n",
      "    branch_method:          standard\n",
      "    branch_time_in_child:   0.0\n",
      "    branch_time_in_parent:  0.0\n",
      "    creation_date:          2019-11-08T10:46:33Z\n",
      "    ...                     ...\n",
      "    variable_id:            clt\n",
      "    variant_label:          r1i1p1f1\n",
      "    version:                v20191108\n",
      "    cmor_version:           3.4.0\n",
      "    tracking_id:            hdl:21.14100/af4b3432-e96c-41aa-93d5-97cc95d0322f\n",
      "    license:                CMIP6 model data produced by CSIRO is licensed un...\n"
     ]
    }
   ],
   "source": [
    "print(clt_model1)"
   ]
  },
  {
   "cell_type": "code",
   "execution_count": 16,
   "id": "23e1eb9b",
   "metadata": {},
   "outputs": [],
   "source": [
    "clt_model1_mean = clt_model1.sel(time=slice(\"1950-01-01\", \"1980-12-31\"))[\"clt\"].groupby(\"time.month\").mean(\"time\")\n",
    "clt_model2_mean = clt_model2.sel(time=slice(\"1950-01-01\", \"1980-12-31\"))[\"clt\"].groupby(\"time.month\").mean(\"time\")\n",
    "clt_model3_mean = clt_model3.sel(time=slice(\"1950-01-01\", \"1980-12-31\"))[\"clt\"].groupby(\"time.month\").mean(\"time\")\n",
    "clt_model4_mean = clt_model4.sel(time=slice(\"1950-01-01\", \"1980-12-31\"))[\"clt\"].groupby(\"time.month\").mean(\"time\")\n",
    "clt_model5_mean = clt_model5.sel(time=slice(\"1950-01-01\", \"1980-12-31\"))[\"clt\"].groupby(\"time.month\").mean(\"time\")\n",
    "clt_model6_mean = clt_model6.sel(time=slice(\"1950-01-01\", \"1980-12-31\"))[\"clt\"].groupby(\"time.month\").mean(\"time\")\n",
    "clt_model7_mean = clt_model7.sel(time=slice(\"1950-01-01\", \"1980-12-31\"))[\"clt\"].groupby(\"time.month\").mean(\"time\")\n",
    "clt_model8_mean = clt_model8.sel(time=slice(\"1950-01-01\", \"1980-12-31\"))[\"clt\"].groupby(\"time.month\").mean(\"time\")"
   ]
  },
  {
   "cell_type": "code",
   "execution_count": 17,
   "id": "3f789da1",
   "metadata": {},
   "outputs": [],
   "source": [
    "clt_ensemble_mean = (clt_model1_mean+clt_model2_mean+clt_model3_mean+clt_model4_mean+clt_model5_mean+clt_model6_mean+clt_model7_mean+clt_model8_mean)/8\n"
   ]
  }
 ],
 "metadata": {
  "kernelspec": {
   "display_name": "Python 3",
   "language": "python",
   "name": "python3"
  },
  "language_info": {
   "codemirror_mode": {
    "name": "ipython",
    "version": 3
   },
   "file_extension": ".py",
   "mimetype": "text/x-python",
   "name": "python",
   "nbconvert_exporter": "python",
   "pygments_lexer": "ipython3",
   "version": "3.13.7"
  }
 },
 "nbformat": 4,
 "nbformat_minor": 5
}
