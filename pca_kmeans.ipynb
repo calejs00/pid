{
 "cells": [
  {
   "cell_type": "code",
   "execution_count": 1,
   "id": "859f9291",
   "metadata": {},
   "outputs": [],
   "source": [
    "import pandas as pd\n",
    "import numpy as np\n",
    "from sklearn.preprocessing import StandardScaler, MinMaxScaler\n",
    "from sklearn.decomposition import PCA\n",
    "from sklearn.cluster import KMeans\n",
    "import matplotlib.pyplot as plt\n",
    "import xarray as xr"
   ]
  },
  {
   "cell_type": "markdown",
   "id": "8adad934",
   "metadata": {},
   "source": [
    "Cargamos los datos y los almacenamos en arrays diviendolos en meses y variables para poder luego usar PCA:"
   ]
  },
  {
   "cell_type": "code",
   "execution_count": 3,
   "id": "a8b7658c",
   "metadata": {},
   "outputs": [
    {
     "name": "stdout",
     "output_type": "stream",
     "text": [
      "Se generaron 60 arrays en el diccionario.\n",
      "Ejemplo de claves: ['mes_1_clt_ensemble_mean', 'mes_1_pr_ensemble_mean', 'mes_1_rsds_ensemble_mean', 'mes_1_sfcWind_ensemble_mean', 'mes_1_tas_ensemble_mean', 'mes_2_clt_ensemble_mean']\n",
      "Ejemplo de coordenadas:\n",
      " [[-55.13089005 290.        ]\n",
      " [-55.13089005 291.25      ]\n",
      " [-55.13089005 292.5       ]\n",
      " [-55.13089005 293.75      ]\n",
      " [-54.18848168 287.5       ]]\n",
      "Tamaño de puntos terrestres: 7317\n"
     ]
    }
   ],
   "source": [
    "# Cargar el dataset NetCDF (en este caso solo el de zonas terrestres)\n",
    "ds = xr.open_dataset(\"ensemble_modelos_land.nc\")\n",
    "\n",
    "variables = ['clt_ensemble_mean', 'pr_ensemble_mean', 'rsds_ensemble_mean', 'sfcWind_ensemble_mean', 'tas_ensemble_mean']\n",
    "meses = ds['month'].values\n",
    "\n",
    "arrays_dict = {}\n",
    "\n",
    "# Usamos una variable base para crear la máscara de tierra\n",
    "var_base = 'tas_ensemble_mean'\n",
    "mask_tierra = ~np.isnan(np.squeeze(ds[var_base].isel(month=0).values))  # True donde hay tierra\n",
    "\n",
    "# Crear coordenadas completas\n",
    "latitudes = ds['lat'].values\n",
    "longitudes = ds['lon'].values\n",
    "lon_grid, lat_grid = np.meshgrid(longitudes, latitudes)\n",
    "\n",
    "# Aplicar máscara a las coordenadas → solo tierra\n",
    "array_coord = np.column_stack([lat_grid[mask_tierra], lon_grid[mask_tierra]])\n",
    "\n",
    "# Recorrer meses y variables aplicando la misma máscara\n",
    "for mes in np.unique(meses):\n",
    "    for var in variables:\n",
    "        datos_mes = np.squeeze(ds[var].sel(month=mes).values)\n",
    "        datos_mes_tierra = datos_mes[mask_tierra]  # solo valores terrestres\n",
    "        arrays_dict[f\"mes_{int(mes)}_{var}\"] = datos_mes_tierra\n",
    "\n",
    "# Verificación\n",
    "print(f\"Se generaron {len(arrays_dict)} arrays en el diccionario.\")\n",
    "print(\"Ejemplo de claves:\", list(arrays_dict.keys())[:6])\n",
    "print(\"Ejemplo de coordenadas:\\n\", array_coord[:5])\n",
    "print(\"Tamaño de puntos terrestres:\", len(array_coord))\n"
   ]
  },
  {
   "cell_type": "code",
   "execution_count": 4,
   "id": "17658ee4",
   "metadata": {},
   "outputs": [
    {
     "name": "stdout",
     "output_type": "stream",
     "text": [
      "Variables detectadas: 60\n",
      "Tamaño de cada vector: 7317\n"
     ]
    }
   ],
   "source": [
    "n_vars = len(arrays_dict)\n",
    "first_len = len(next(iter(arrays_dict.values())))\n",
    "print(f\"Variables detectadas: {n_vars}\")\n",
    "print(f\"Tamaño de cada vector: {first_len}\")\n",
    "\n",
    "assert all(len(v) == first_len for v in arrays_dict.values())"
   ]
  },
  {
   "cell_type": "markdown",
   "id": "38a860c6",
   "metadata": {},
   "source": [
    "PCA:"
   ]
  },
  {
   "cell_type": "code",
   "execution_count": 5,
   "id": "ff5c90af",
   "metadata": {},
   "outputs": [
    {
     "name": "stdout",
     "output_type": "stream",
     "text": [
      "Forma de la matriz original: (60, 7317)\n"
     ]
    }
   ],
   "source": [
    "n_features = n_vars\n",
    "n_points = first_len\n",
    "\n",
    "# Mantener el orden alfabético para reproducibilidad\n",
    "keys_sorted = sorted(arrays_dict.keys())\n",
    "X = np.vstack([arrays_dict[k] for k in keys_sorted])\n",
    "print(\"Forma de la matriz original:\", X.shape)"
   ]
  },
  {
   "cell_type": "code",
   "execution_count": 6,
   "id": "6a596902",
   "metadata": {},
   "outputs": [],
   "source": [
    "X_t = X.T "
   ]
  },
  {
   "cell_type": "code",
   "execution_count": 7,
   "id": "89f6fb99",
   "metadata": {},
   "outputs": [
    {
     "name": "stdout",
     "output_type": "stream",
     "text": [
      "Estandarizando datos \n"
     ]
    }
   ],
   "source": [
    "print(\"Estandarizando datos \")\n",
    "#scaler = StandardScaler()\n",
    "scaler = MinMaxScaler()\n",
    "X_scaled = scaler.fit_transform(X_t)"
   ]
  },
  {
   "cell_type": "code",
   "execution_count": 8,
   "id": "c4b0022e",
   "metadata": {},
   "outputs": [
    {
     "name": "stdout",
     "output_type": "stream",
     "text": [
      "Varianza explicada acumulada: [0.3709176  0.61902064 0.75633305 0.8747379  0.9097188 ]\n",
      "Valores singulares: [72.41131  59.22209  44.057777 40.912163 22.237349]\n"
     ]
    }
   ],
   "source": [
    "pca = PCA(n_components=0.90)\n",
    "X_reduced = pca.fit_transform(X_scaled)\n",
    "\n",
    "print(\"Varianza explicada acumulada:\", np.cumsum(pca.explained_variance_ratio_))\n",
    "X_reduced.shape\n",
    "\n",
    "X_reduced\n",
    "\n",
    "print(\"Valores singulares:\", pca.singular_values_)"
   ]
  },
  {
   "cell_type": "markdown",
   "id": "96f8eeae",
   "metadata": {},
   "source": [
    "Aplicamos K-means sobre los resultados de PCA:"
   ]
  },
  {
   "cell_type": "code",
   "execution_count": 9,
   "id": "c06c0512",
   "metadata": {},
   "outputs": [],
   "source": [
    "n_clusters = 8\n",
    "kmeans = KMeans(n_clusters=n_clusters, random_state=42, n_init=\"auto\")\n",
    "labels = kmeans.fit_predict(X_reduced) "
   ]
  },
  {
   "cell_type": "markdown",
   "id": "0d82f42b",
   "metadata": {},
   "source": [
    "Recontruir el mapa:"
   ]
  },
  {
   "cell_type": "code",
   "execution_count": 12,
   "id": "e02f078c",
   "metadata": {},
   "outputs": [
    {
     "data": {
      "image/png": "[encoded data removed]",
      "text/plain": [
       "<Figure size 1000x500 with 2 Axes>"
      ]
     },
     "metadata": {},
     "output_type": "display_data"
    }
   ],
   "source": [
    "# Crear una matriz llena de NaN con el tamaño original del dataset\n",
    "nlat = len(ds[\"lat\"])\n",
    "nlon = len(ds[\"lon\"])\n",
    "mapa_clusters = np.full((nlat, nlon), np.nan)\n",
    "\n",
    "# Rellenar solo las posiciones terrestres\n",
    "mapa_clusters[mask_tierra] = labels\n",
    "\n",
    "# Convertirlo en un DataArray de xarray \n",
    "mapa_clusters_xr = xr.DataArray(\n",
    "    mapa_clusters,\n",
    "    coords={\"lat\": ds[\"lat\"], \"lon\": ds[\"lon\"]},\n",
    "    dims=[\"lat\", \"lon\"],\n",
    "    name=\"clusters\"\n",
    ")\n",
    "\n",
    "# Reordenar longitudes de -180 a 180\n",
    "mapa_clusters_xr = mapa_clusters_xr.assign_coords(\n",
    "    lon=(((mapa_clusters_xr.lon + 180) % 360) - 180)\n",
    ").sortby(\"lon\")\n",
    "\n",
    "# Visualizar\n",
    "plt.figure(figsize=(10,5))\n",
    "plt.pcolormesh(ds[\"lon\"], ds[\"lat\"], mapa_clusters_xr, shading=\"auto\", cmap=\"tab10\")\n",
    "plt.colorbar(label=\"Cluster\")\n",
    "plt.title(\"Mapa de clusters KMeans (solo tierra)\")\n",
    "plt.xlabel(\"Longitud\")\n",
    "plt.ylabel(\"Latitud\")\n",
    "plt.show()\n"
   ]
  },
  {
   "cell_type": "code",
   "execution_count": 13,
   "id": "756e9b85",
   "metadata": {},
   "outputs": [
    {
     "name": "stdout",
     "output_type": "stream",
     "text": [
      "Archivo 'mapa_clusters.nc' guardado correctamente.\n"
     ]
    }
   ],
   "source": [
    "# Guardar en archivo NetCDF\n",
    "mapa_clusters_xr.to_netcdf(\"mapa_clusters.nc\")\n",
    "\n",
    "print(\"Archivo 'mapa_clusters.nc' guardado correctamente.\")\n"
   ]
  }
 ],
 "metadata": {
  "kernelspec": {
   "display_name": "clima",
   "language": "python",
   "name": "python3"
  },
  "language_info": {
   "codemirror_mode": {
    "name": "ipython",
    "version": 3
   },
   "file_extension": ".py",
   "mimetype": "text/x-python",
   "name": "python",
   "nbconvert_exporter": "python",
   "pygments_lexer": "ipython3",
   "version": "3.11.13"
  }
 },
 "nbformat": 4,
 "nbformat_minor": 5
}
