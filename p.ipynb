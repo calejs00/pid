{
 "cells": [
  {
   "cell_type": "code",
   "execution_count": 1,
   "id": "aeeff35a",
   "metadata": {},
   "outputs": [],
   "source": [
    "import xarray as xr\n",
    "import netCDF4\n",
    "import numpy as np\n",
    "import matplotlib.pyplot as plt\n",
    "import cartopy.crs as ccrs\n",
    "import cartopy.feature as cfeature"
   ]
  },
  {
   "cell_type": "code",
   "execution_count": 13,
   "id": "3ff2dad7",
   "metadata": {},
   "outputs": [
    {
     "name": "stderr",
     "output_type": "stream",
     "text": [
      "c:\\Users\\clara\\AppData\\Local\\Programs\\Python\\Python313\\Lib\\site-packages\\xarray\\conventions.py:204: SerializationWarning: variable 'clt' has multiple fill values {np.float32(1e+20), np.float64(1e+20)} defined, decoding all values to NaN.\n",
      "  var = coder.decode(var, name=name)\n"
     ]
    }
   ],
   "source": [
    "#Abro los 10 datasets\n",
    "clt_model1 = xr.open_dataset(r\"C:\\Users\\clara\\iCloudDrive\\UNIVERSIDAD\\4 UNI\\PID\\modelos\\clt\\clt_Amon_ACCESS-CM2_historical_r1i1p1f1_gn_185001-201412.nc\")\n",
    "clt_model2 = xr.open_dataset(r\"C:\\Users\\clara\\iCloudDrive\\UNIVERSIDAD\\4 UNI\\PID\\modelos\\clt\\clt_Amon_ACCESS-ESM1-5_historical_r1i1p1f1_gn_185001-201412.nc\")\n",
    "clt_model3 = xr.open_dataset(r\"C:\\Users\\clara\\iCloudDrive\\UNIVERSIDAD\\4 UNI\\PID\\modelos\\clt\\clt_Amon_CanESM5_historical_r1i1p1f1_gn_185001-201412.nc\")\n",
    "clt_model4 = xr.open_dataset(r\"C:\\Users\\clara\\iCloudDrive\\UNIVERSIDAD\\4 UNI\\PID\\modelos\\clt\\clt_Amon_CESM2-WACCM_historical_r1i1p1f1_gn_185001-201412.nc\")\n",
    "clt_model5 = xr.open_dataset(r\"C:\\Users\\clara\\iCloudDrive\\UNIVERSIDAD\\4 UNI\\PID\\modelos\\clt\\clt_Amon_CMCC-CM2-SR5_historical_r1i1p1f1_gn_185001-201412.nc\")\n",
    "clt_model6 = xr.open_dataset(r\"C:\\Users\\clara\\iCloudDrive\\UNIVERSIDAD\\4 UNI\\PID\\modelos\\clt\\clt_Amon_FIO-ESM-2-0_historical_r1i1p1f1_gn_185001-201412.nc\")\n",
    "clt_model7 = xr.open_dataset(r\"C:\\Users\\clara\\iCloudDrive\\UNIVERSIDAD\\4 UNI\\PID\\modelos\\clt\\clt_Amon_MRI-ESM2-0_historical_r1i1p1f1_gn_185001-201412.nc\")\n",
    "clt_model8 = xr.open_dataset(r\"C:\\Users\\clara\\iCloudDrive\\UNIVERSIDAD\\4 UNI\\PID\\modelos\\clt\\clt_Amon_TaiESM1_historical_r1i1p1f1_gn_185001-201412.nc\")"
   ]
  },
  {
   "cell_type": "code",
   "execution_count": null,
   "id": "28193393",
   "metadata": {},
   "outputs": [],
   "source": [
    "print(clt_model1)"
   ]
  },
  {
   "cell_type": "code",
   "execution_count": 16,
   "id": "23e1eb9b",
   "metadata": {},
   "outputs": [],
   "source": [
    "clt_model1_mean = clt_model1.sel(time=slice(\"1950-01-01\", \"1980-12-31\"))[\"clt\"].groupby(\"time.month\").mean(\"time\")\n",
    "clt_model2_mean = clt_model2.sel(time=slice(\"1950-01-01\", \"1980-12-31\"))[\"clt\"].groupby(\"time.month\").mean(\"time\")\n",
    "clt_model3_mean = clt_model3.sel(time=slice(\"1950-01-01\", \"1980-12-31\"))[\"clt\"].groupby(\"time.month\").mean(\"time\")\n",
    "clt_model4_mean = clt_model4.sel(time=slice(\"1950-01-01\", \"1980-12-31\"))[\"clt\"].groupby(\"time.month\").mean(\"time\")\n",
    "clt_model5_mean = clt_model5.sel(time=slice(\"1950-01-01\", \"1980-12-31\"))[\"clt\"].groupby(\"time.month\").mean(\"time\")\n",
    "clt_model6_mean = clt_model6.sel(time=slice(\"1950-01-01\", \"1980-12-31\"))[\"clt\"].groupby(\"time.month\").mean(\"time\")\n",
    "clt_model7_mean = clt_model7.sel(time=slice(\"1950-01-01\", \"1980-12-31\"))[\"clt\"].groupby(\"time.month\").mean(\"time\")\n",
    "clt_model8_mean = clt_model8.sel(time=slice(\"1950-01-01\", \"1980-12-31\"))[\"clt\"].groupby(\"time.month\").mean(\"time\")"
   ]
  },
  {
   "cell_type": "code",
   "execution_count": 17,
   "id": "3f789da1",
   "metadata": {},
   "outputs": [],
   "source": [
    "clt_ensemble_mean = (clt_model1_mean+clt_model2_mean+clt_model3_mean+clt_model4_mean+clt_model5_mean+clt_model6_mean+clt_model7_mean+clt_model8_mean)/8\n"
   ]
  }
 ],
 "metadata": {
  "kernelspec": {
   "display_name": "Python 3",
   "language": "python",
   "name": "python3"
  },
  "language_info": {
   "codemirror_mode": {
    "name": "ipython",
    "version": 3
   },
   "file_extension": ".py",
   "mimetype": "text/x-python",
   "name": "python",
   "nbconvert_exporter": "python",
   "pygments_lexer": "ipython3",
   "version": "3.13.7"
  }
 },
 "nbformat": 4,
 "nbformat_minor": 5
}
