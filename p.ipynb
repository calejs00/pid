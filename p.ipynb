{
 "cells": [
  {
   "cell_type": "code",
   "execution_count": 1,
   "id": "aeeff35a",
   "metadata": {},
   "outputs": [],
   "source": [
    "import xarray as xr\n",
    "import netCDF4\n",
    "import numpy as np\n",
    "import matplotlib.pyplot as plt\n",
    "import cartopy.crs as ccrs\n",
    "import cartopy.feature as cfeature"
   ]
  },
  {
   "cell_type": "code",
   "execution_count": 7,
   "id": "3ff2dad7",
   "metadata": {},
   "outputs": [
    {
     "name": "stderr",
     "output_type": "stream",
     "text": [
      "c:\\Users\\clara\\AppData\\Local\\Programs\\Python\\Python313\\Lib\\site-packages\\xarray\\conventions.py:204: SerializationWarning: variable 'clt' has multiple fill values {np.float32(1e+20), np.float64(1e+20)} defined, decoding all values to NaN.\n",
      "  var = coder.decode(var, name=name)\n"
     ]
    }
   ],
   "source": [
    "#Abro los 10 datasets\n",
    "clt_model1 = xr.open_dataset(r\"C:\\Users\\clara\\iCloudDrive\\UNIVERSIDAD\\4 UNI\\PID\\modelos\\clt\\clt_Amon_ACCESS-CM2_historical_r1i1p1f1_gn_185001-201412.nc\")\n",
    "clt_model2 = xr.open_dataset(r\"C:\\Users\\clara\\iCloudDrive\\UNIVERSIDAD\\4 UNI\\PID\\modelos\\clt\\clt_Amon_ACCESS-ESM1-5_historical_r1i1p1f1_gn_185001-201412.nc\")\n",
    "clt_model3 = xr.open_dataset(r\"C:\\Users\\clara\\iCloudDrive\\UNIVERSIDAD\\4 UNI\\PID\\modelos\\clt\\clt_Amon_CanESM5_historical_r1i1p1f1_gn_185001-201412.nc\")\n",
    "clt_model4 = xr.open_dataset(r\"C:\\Users\\clara\\iCloudDrive\\UNIVERSIDAD\\4 UNI\\PID\\modelos\\clt\\clt_Amon_CESM2-WACCM_historical_r1i1p1f1_gn_185001-201412.nc\")\n",
    "clt_model5 = xr.open_dataset(r\"C:\\Users\\clara\\iCloudDrive\\UNIVERSIDAD\\4 UNI\\PID\\modelos\\clt\\clt_Amon_CMCC-CM2-SR5_historical_r1i1p1f1_gn_185001-201412.nc\")\n",
    "clt_model6 = xr.open_dataset(r\"C:\\Users\\clara\\iCloudDrive\\UNIVERSIDAD\\4 UNI\\PID\\modelos\\clt\\clt_Amon_FIO-ESM-2-0_historical_r1i1p1f1_gn_185001-201412.nc\")\n",
    "clt_model7 = xr.open_dataset(r\"C:\\Users\\clara\\iCloudDrive\\UNIVERSIDAD\\4 UNI\\PID\\modelos\\clt\\clt_Amon_MRI-ESM2-0_historical_r1i1p1f1_gn_185001-201412.nc\")\n",
    "clt_model8 = xr.open_dataset(r\"C:\\Users\\clara\\iCloudDrive\\UNIVERSIDAD\\4 UNI\\PID\\modelos\\clt\\clt_Amon_NESM3_historical_r1i1p1f1_gn_185001-201412.nc\")\n",
    "clt_model9 = xr.open_dataset(r\"C:\\Users\\clara\\iCloudDrive\\UNIVERSIDAD\\4 UNI\\PID\\modelos\\clt\\clt_Amon_NorCPM1_historical_r1i1p1f1_gn_185001-201412.nc\")\n",
    "clt_model10 = xr.open_dataset(r\"C:\\Users\\clara\\iCloudDrive\\UNIVERSIDAD\\4 UNI\\PID\\modelos\\clt\\clt_Amon_TaiESM1_historical_r1i1p1f1_gn_185001-201412.nc\")"
   ]
  },
  {
   "cell_type": "code",
   "execution_count": 8,
   "id": "28193393",
   "metadata": {},
   "outputs": [
    {
     "name": "stdout",
     "output_type": "stream",
     "text": [
      "<xarray.Dataset> Size: 219MB\n",
      "Dimensions:    (time: 1980, bnds: 2, lat: 144, lon: 192)\n",
      "Coordinates:\n",
      "  * time       (time) datetime64[ns] 16kB 1850-01-16T12:00:00 ... 2014-12-16T...\n",
      "  * lat        (lat) float64 1kB -89.38 -88.12 -86.88 ... 86.88 88.12 89.38\n",
      "  * lon        (lon) float64 2kB 0.9375 2.812 4.688 6.562 ... 355.3 357.2 359.1\n",
      "Dimensions without coordinates: bnds\n",
      "Data variables:\n",
      "    time_bnds  (time, bnds) datetime64[ns] 32kB ...\n",
      "    lat_bnds   (lat, bnds) float64 2kB ...\n",
      "    lon_bnds   (lon, bnds) float64 3kB ...\n",
      "    clt        (time, lat, lon) float32 219MB ...\n",
      "Attributes: (12/47)\n",
      "    Conventions:            CF-1.7 CMIP-6.2\n",
      "    activity_id:            CMIP\n",
      "    branch_method:          standard\n",
      "    branch_time_in_child:   0.0\n",
      "    branch_time_in_parent:  0.0\n",
      "    creation_date:          2019-11-08T10:46:33Z\n",
      "    ...                     ...\n",
      "    variable_id:            clt\n",
      "    variant_label:          r1i1p1f1\n",
      "    version:                v20191108\n",
      "    cmor_version:           3.4.0\n",
      "    tracking_id:            hdl:21.14100/af4b3432-e96c-41aa-93d5-97cc95d0322f\n",
      "    license:                CMIP6 model data produced by CSIRO is licensed un...\n"
     ]
    }
   ],
   "source": [
    "print(clt_model1)"
   ]
  },
  {
   "cell_type": "code",
   "execution_count": 9,
   "id": "23e1eb9b",
   "metadata": {},
   "outputs": [],
   "source": [
    "clt_model1_mean = clt_model1[\"clt\"].groupby(\"time.month\").mean(\"time\")\n",
    "clt_model2_mean = clt_model2[\"clt\"].groupby(\"time.month\").mean(\"time\")\n",
    "clt_model3_mean = clt_model3[\"clt\"].groupby(\"time.month\").mean(\"time\")\n",
    "clt_model4_mean = clt_model4[\"clt\"].groupby(\"time.month\").mean(\"time\")\n",
    "clt_model5_mean = clt_model5[\"clt\"].groupby(\"time.month\").mean(\"time\")\n",
    "clt_model6_mean = clt_model6[\"clt\"].groupby(\"time.month\").mean(\"time\")\n",
    "clt_model7_mean = clt_model7[\"clt\"].groupby(\"time.month\").mean(\"time\")\n",
    "clt_model8_mean = clt_model8[\"clt\"].groupby(\"time.month\").mean(\"time\")\n",
    "clt_model9_mean = clt_model9[\"clt\"].groupby(\"time.month\").mean(\"time\")\n",
    "clt_model10_mean = clt_model10[\"clt\"].groupby(\"time.month\").mean(\"time\")"
   ]
  },
  {
   "cell_type": "code",
   "execution_count": 10,
   "id": "3f789da1",
   "metadata": {},
   "outputs": [],
   "source": [
    "clt_ensemble_mean = (clt_model1_mean+clt_model2_mean+clt_model3_mean+clt_model4_mean+clt_model5_mean+clt_model6_mean+clt_model7_mean+clt_model8_mean+clt_model9_mean+clt_model10_mean)/10\n"
   ]
  },
  {
   "cell_type": "code",
   "execution_count": null,
   "id": "a588c01a",
   "metadata": {},
   "outputs": [
    {
     "ename": "KeyError",
     "evalue": "\"'time' is not a valid dimension or coordinate for Dataset with dimensions FrozenMappingWarningOnValuesAccess({'lat': 0, 'lon': 0, 'month': 12})\"",
     "output_type": "error",
     "traceback": [
      "\u001b[31m---------------------------------------------------------------------------\u001b[39m",
      "\u001b[31mKeyError\u001b[39m                                  Traceback (most recent call last)",
      "\u001b[36mCell\u001b[39m\u001b[36m \u001b[39m\u001b[32mIn[11]\u001b[39m\u001b[32m, line 1\u001b[39m\n\u001b[32m----> \u001b[39m\u001b[32m1\u001b[39m baseline = \u001b[43mclt_ensemble_mean\u001b[49m\u001b[43m.\u001b[49m\u001b[43msel\u001b[49m\u001b[43m(\u001b[49m\u001b[43mtime\u001b[49m\u001b[43m=\u001b[49m\u001b[38;5;28;43mslice\u001b[39;49m\u001b[43m(\u001b[49m\u001b[33;43m\"\u001b[39;49m\u001b[33;43m1850-01-01\u001b[39;49m\u001b[33;43m\"\u001b[39;49m\u001b[43m,\u001b[49m\u001b[43m \u001b[49m\u001b[33;43m\"\u001b[39;49m\u001b[33;43m2014-12-31\u001b[39;49m\u001b[33;43m\"\u001b[39;49m\u001b[43m)\u001b[49m\u001b[43m)\u001b[49m\n\u001b[32m      2\u001b[39m clim_clt = baseline.groupby(\u001b[33m\"\u001b[39m\u001b[33mtime.month\u001b[39m\u001b[33m\"\u001b[39m).mean(\u001b[33m\"\u001b[39m\u001b[33mtime\u001b[39m\u001b[33m\"\u001b[39m)\n",
      "\u001b[36mFile \u001b[39m\u001b[32mc:\\Users\\clara\\AppData\\Local\\Programs\\Python\\Python313\\Lib\\site-packages\\xarray\\core\\dataarray.py:1716\u001b[39m, in \u001b[36mDataArray.sel\u001b[39m\u001b[34m(self, indexers, method, tolerance, drop, **indexers_kwargs)\u001b[39m\n\u001b[32m   1600\u001b[39m \u001b[38;5;28;01mdef\u001b[39;00m\u001b[38;5;250m \u001b[39m\u001b[34msel\u001b[39m(\n\u001b[32m   1601\u001b[39m     \u001b[38;5;28mself\u001b[39m,\n\u001b[32m   1602\u001b[39m     indexers: Mapping[Any, Any] | \u001b[38;5;28;01mNone\u001b[39;00m = \u001b[38;5;28;01mNone\u001b[39;00m,\n\u001b[32m   (...)\u001b[39m\u001b[32m   1606\u001b[39m     **indexers_kwargs: Any,\n\u001b[32m   1607\u001b[39m ) -> Self:\n\u001b[32m   1608\u001b[39m \u001b[38;5;250m    \u001b[39m\u001b[33;03m\"\"\"Return a new DataArray whose data is given by selecting index\u001b[39;00m\n\u001b[32m   1609\u001b[39m \u001b[33;03m    labels along the specified dimension(s).\u001b[39;00m\n\u001b[32m   1610\u001b[39m \n\u001b[32m   (...)\u001b[39m\u001b[32m   1714\u001b[39m \u001b[33;03m    Dimensions without coordinates: points\u001b[39;00m\n\u001b[32m   1715\u001b[39m \u001b[33;03m    \"\"\"\u001b[39;00m\n\u001b[32m-> \u001b[39m\u001b[32m1716\u001b[39m     ds = \u001b[38;5;28;43mself\u001b[39;49m\u001b[43m.\u001b[49m\u001b[43m_to_temp_dataset\u001b[49m\u001b[43m(\u001b[49m\u001b[43m)\u001b[49m\u001b[43m.\u001b[49m\u001b[43msel\u001b[49m\u001b[43m(\u001b[49m\n\u001b[32m   1717\u001b[39m \u001b[43m        \u001b[49m\u001b[43mindexers\u001b[49m\u001b[43m=\u001b[49m\u001b[43mindexers\u001b[49m\u001b[43m,\u001b[49m\n\u001b[32m   1718\u001b[39m \u001b[43m        \u001b[49m\u001b[43mdrop\u001b[49m\u001b[43m=\u001b[49m\u001b[43mdrop\u001b[49m\u001b[43m,\u001b[49m\n\u001b[32m   1719\u001b[39m \u001b[43m        \u001b[49m\u001b[43mmethod\u001b[49m\u001b[43m=\u001b[49m\u001b[43mmethod\u001b[49m\u001b[43m,\u001b[49m\n\u001b[32m   1720\u001b[39m \u001b[43m        \u001b[49m\u001b[43mtolerance\u001b[49m\u001b[43m=\u001b[49m\u001b[43mtolerance\u001b[49m\u001b[43m,\u001b[49m\n\u001b[32m   1721\u001b[39m \u001b[43m        \u001b[49m\u001b[43m*\u001b[49m\u001b[43m*\u001b[49m\u001b[43mindexers_kwargs\u001b[49m\u001b[43m,\u001b[49m\n\u001b[32m   1722\u001b[39m \u001b[43m    \u001b[49m\u001b[43m)\u001b[49m\n\u001b[32m   1723\u001b[39m     \u001b[38;5;28;01mreturn\u001b[39;00m \u001b[38;5;28mself\u001b[39m._from_temp_dataset(ds)\n",
      "\u001b[36mFile \u001b[39m\u001b[32mc:\\Users\\clara\\AppData\\Local\\Programs\\Python\\Python313\\Lib\\site-packages\\xarray\\core\\dataset.py:2974\u001b[39m, in \u001b[36mDataset.sel\u001b[39m\u001b[34m(self, indexers, method, tolerance, drop, **indexers_kwargs)\u001b[39m\n\u001b[32m   2906\u001b[39m \u001b[38;5;250m\u001b[39m\u001b[33;03m\"\"\"Returns a new dataset with each array indexed by tick labels\u001b[39;00m\n\u001b[32m   2907\u001b[39m \u001b[33;03malong the specified dimension(s).\u001b[39;00m\n\u001b[32m   2908\u001b[39m \n\u001b[32m   (...)\u001b[39m\u001b[32m   2971\u001b[39m \n\u001b[32m   2972\u001b[39m \u001b[33;03m\"\"\"\u001b[39;00m\n\u001b[32m   2973\u001b[39m indexers = either_dict_or_kwargs(indexers, indexers_kwargs, \u001b[33m\"\u001b[39m\u001b[33msel\u001b[39m\u001b[33m\"\u001b[39m)\n\u001b[32m-> \u001b[39m\u001b[32m2974\u001b[39m query_results = \u001b[43mmap_index_queries\u001b[49m\u001b[43m(\u001b[49m\n\u001b[32m   2975\u001b[39m \u001b[43m    \u001b[49m\u001b[38;5;28;43mself\u001b[39;49m\u001b[43m,\u001b[49m\u001b[43m \u001b[49m\u001b[43mindexers\u001b[49m\u001b[43m=\u001b[49m\u001b[43mindexers\u001b[49m\u001b[43m,\u001b[49m\u001b[43m \u001b[49m\u001b[43mmethod\u001b[49m\u001b[43m=\u001b[49m\u001b[43mmethod\u001b[49m\u001b[43m,\u001b[49m\u001b[43m \u001b[49m\u001b[43mtolerance\u001b[49m\u001b[43m=\u001b[49m\u001b[43mtolerance\u001b[49m\n\u001b[32m   2976\u001b[39m \u001b[43m\u001b[49m\u001b[43m)\u001b[49m\n\u001b[32m   2978\u001b[39m \u001b[38;5;28;01mif\u001b[39;00m drop:\n\u001b[32m   2979\u001b[39m     no_scalar_variables = {}\n",
      "\u001b[36mFile \u001b[39m\u001b[32mc:\\Users\\clara\\AppData\\Local\\Programs\\Python\\Python313\\Lib\\site-packages\\xarray\\core\\indexing.py:193\u001b[39m, in \u001b[36mmap_index_queries\u001b[39m\u001b[34m(obj, indexers, method, tolerance, **indexers_kwargs)\u001b[39m\n\u001b[32m    190\u001b[39m     options = {\u001b[33m\"\u001b[39m\u001b[33mmethod\u001b[39m\u001b[33m\"\u001b[39m: method, \u001b[33m\"\u001b[39m\u001b[33mtolerance\u001b[39m\u001b[33m\"\u001b[39m: tolerance}\n\u001b[32m    192\u001b[39m indexers = either_dict_or_kwargs(indexers, indexers_kwargs, \u001b[33m\"\u001b[39m\u001b[33mmap_index_queries\u001b[39m\u001b[33m\"\u001b[39m)\n\u001b[32m--> \u001b[39m\u001b[32m193\u001b[39m grouped_indexers = \u001b[43mgroup_indexers_by_index\u001b[49m\u001b[43m(\u001b[49m\u001b[43mobj\u001b[49m\u001b[43m,\u001b[49m\u001b[43m \u001b[49m\u001b[43mindexers\u001b[49m\u001b[43m,\u001b[49m\u001b[43m \u001b[49m\u001b[43moptions\u001b[49m\u001b[43m)\u001b[49m\n\u001b[32m    195\u001b[39m results = []\n\u001b[32m    196\u001b[39m \u001b[38;5;28;01mfor\u001b[39;00m index, labels \u001b[38;5;129;01min\u001b[39;00m grouped_indexers:\n",
      "\u001b[36mFile \u001b[39m\u001b[32mc:\\Users\\clara\\AppData\\Local\\Programs\\Python\\Python313\\Lib\\site-packages\\xarray\\core\\indexing.py:154\u001b[39m, in \u001b[36mgroup_indexers_by_index\u001b[39m\u001b[34m(obj, indexers, options)\u001b[39m\n\u001b[32m    152\u001b[39m     \u001b[38;5;28;01mraise\u001b[39;00m \u001b[38;5;167;01mKeyError\u001b[39;00m(\u001b[33mf\u001b[39m\u001b[33m\"\u001b[39m\u001b[33mno index found for coordinate \u001b[39m\u001b[38;5;132;01m{\u001b[39;00mkey\u001b[38;5;132;01m!r}\u001b[39;00m\u001b[33m\"\u001b[39m)\n\u001b[32m    153\u001b[39m \u001b[38;5;28;01melif\u001b[39;00m key \u001b[38;5;129;01mnot\u001b[39;00m \u001b[38;5;129;01min\u001b[39;00m obj.dims:\n\u001b[32m--> \u001b[39m\u001b[32m154\u001b[39m     \u001b[38;5;28;01mraise\u001b[39;00m \u001b[38;5;167;01mKeyError\u001b[39;00m(\n\u001b[32m    155\u001b[39m         \u001b[33mf\u001b[39m\u001b[33m\"\u001b[39m\u001b[38;5;132;01m{\u001b[39;00mkey\u001b[38;5;132;01m!r}\u001b[39;00m\u001b[33m is not a valid dimension or coordinate for \u001b[39m\u001b[33m\"\u001b[39m\n\u001b[32m    156\u001b[39m         \u001b[33mf\u001b[39m\u001b[33m\"\u001b[39m\u001b[38;5;132;01m{\u001b[39;00mobj.\u001b[34m__class__\u001b[39m.\u001b[34m__name__\u001b[39m\u001b[38;5;132;01m}\u001b[39;00m\u001b[33m with dimensions \u001b[39m\u001b[38;5;132;01m{\u001b[39;00mobj.dims\u001b[38;5;132;01m!r}\u001b[39;00m\u001b[33m\"\u001b[39m\n\u001b[32m    157\u001b[39m     )\n\u001b[32m    158\u001b[39m \u001b[38;5;28;01melif\u001b[39;00m \u001b[38;5;28mlen\u001b[39m(options):\n\u001b[32m    159\u001b[39m     \u001b[38;5;28;01mraise\u001b[39;00m \u001b[38;5;167;01mValueError\u001b[39;00m(\n\u001b[32m    160\u001b[39m         \u001b[33mf\u001b[39m\u001b[33m\"\u001b[39m\u001b[33mcannot supply selection options \u001b[39m\u001b[38;5;132;01m{\u001b[39;00moptions\u001b[38;5;132;01m!r}\u001b[39;00m\u001b[33m for dimension \u001b[39m\u001b[38;5;132;01m{\u001b[39;00mkey\u001b[38;5;132;01m!r}\u001b[39;00m\u001b[33m\"\u001b[39m\n\u001b[32m    161\u001b[39m         \u001b[33m\"\u001b[39m\u001b[33mthat has no associated coordinate or index\u001b[39m\u001b[33m\"\u001b[39m\n\u001b[32m    162\u001b[39m     )\n",
      "\u001b[31mKeyError\u001b[39m: \"'time' is not a valid dimension or coordinate for Dataset with dimensions FrozenMappingWarningOnValuesAccess({'lat': 0, 'lon': 0, 'month': 12})\""
     ]
    }
   ],
   "source": [
    "\n"
   ]
  }
 ],
 "metadata": {
  "kernelspec": {
   "display_name": "Python 3",
   "language": "python",
   "name": "python3"
  },
  "language_info": {
   "codemirror_mode": {
    "name": "ipython",
    "version": 3
   },
   "file_extension": ".py",
   "mimetype": "text/x-python",
   "name": "python",
   "nbconvert_exporter": "python",
   "pygments_lexer": "ipython3",
   "version": "3.13.7"
  }
 },
 "nbformat": 4,
 "nbformat_minor": 5
}
