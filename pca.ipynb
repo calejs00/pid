{
 "cells": [
  {
   "cell_type": "code",
   "execution_count": 8,
   "id": "859f9291",
   "metadata": {},
   "outputs": [],
   "source": [
    "import pandas as pd\n",
    "import numpy as np\n",
    "from sklearn.preprocessing import StandardScaler\n",
    "from sklearn.decomposition import PCA"
   ]
  },
  {
   "cell_type": "code",
   "execution_count": null,
   "id": "cb61c2e0",
   "metadata": {},
   "outputs": [],
   "source": [
    "df = pd.DataFrame()"
   ]
  },
  {
   "cell_type": "code",
   "execution_count": null,
   "id": "f4a0de8a",
   "metadata": {},
   "outputs": [],
   "source": [
    "scaler = StandardScaler()\n",
    "X_std = scaler.fit_transform(df)"
   ]
  },
  {
   "cell_type": "code",
   "execution_count": null,
   "id": "1245bd30",
   "metadata": {},
   "outputs": [],
   "source": [
    "pca = PCA()\n",
    "X_pca = pca.fit_transform(X_std)\n",
    "\n",
    "# Calculamos la varianza acumulada\n",
    "var_acumulada = np.cumsum(pca.explained_variance_ratio_)\n",
    "\n",
    "# Número de componentes que explican al menos el 90 %\n",
    "n_comp = np.argmax(var_acumulada >= 0.90) + 1\n",
    "print('Número de componentes para 90% de varianza:', n_comp)"
   ]
  },
  {
   "cell_type": "code",
   "execution_count": null,
   "id": "0471cdce",
   "metadata": {},
   "outputs": [],
   "source": [
    "pca_reducido = PCA(n_components=n_comp)\n",
    "X_reducido = pca_reducido.fit_transform(X_std)\n",
    "\n",
    "# Resultado en DataFrame\n",
    "df_pca = pd.DataFrame(X_reducido, columns=[f'PC{i+1}' for i in range(n_comp)])\n",
    "df_final = pd.concat([df[['lat', 'lon']], df_pca], axis=1)\n"
   ]
  }
 ],
 "metadata": {
  "kernelspec": {
   "display_name": "Python 3",
   "language": "python",
   "name": "python3"
  },
  "language_info": {
   "codemirror_mode": {
    "name": "ipython",
    "version": 3
   },
   "file_extension": ".py",
   "mimetype": "text/x-python",
   "name": "python",
   "nbconvert_exporter": "python",
   "pygments_lexer": "ipython3",
   "version": "3.13.7"
  }
 },
 "nbformat": 4,
 "nbformat_minor": 5
}
