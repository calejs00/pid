{
 "cells": [
  {
   "cell_type": "code",
   "execution_count": 2,
   "id": "deea3d7e",
   "metadata": {},
   "outputs": [],
   "source": [
    "import xarray as xr\n",
    "import netCDF4\n",
    "import numpy as np\n",
    "import matplotlib.pyplot as plt\n",
    "import cartopy.crs as ccrs\n",
    "import cartopy.feature as cfeature\n",
    "import pandas as pd\n",
    "import numpy as np\n",
    "import xesmf as xe\n",
    "from pathlib import Path"
   ]
  },
  {
   "cell_type": "markdown",
   "id": "1c1416a1",
   "metadata": {},
   "source": [
    "Cargamos los modelos en un dataxarray"
   ]
  },
  {
   "cell_type": "code",
   "execution_count": 3,
   "id": "1b1af3cc",
   "metadata": {},
   "outputs": [],
   "source": [
    "def abrir_modelos(variable, ruta_base=None):\n",
    "    \"\"\"\n",
    "    Abrir todos los archivos .nc en la subcarpeta correspondiente a la variable dentro de 'modelos'.\n",
    "\n",
    "    Returns:\n",
    "      list[xarray.Dataset]: lista con los datasets abiertos.\n",
    "\n",
    "    Raises:\n",
    "      FileNotFoundError: si la carpeta no existe o no contiene archivos .nc.\n",
    "    \"\"\"\n",
    "    try:\n",
    "        base = Path(__file__).parent  # disponible si se ejecuta como script\n",
    "    except NameError:\n",
    "        base = Path.cwd()\n",
    "    # Resolver ruta_base: por defecto 'modelos' relativa a este archivo,\n",
    "    # pero permite pasar una ruta absoluta o relativa si se desea.\n",
    "    if ruta_base:\n",
    "        modelos_root = Path(ruta_base)\n",
    "        if not modelos_root.is_absolute():\n",
    "            modelos_root = base / modelos_root\n",
    "    else:\n",
    "        modelos_root = base / 'modelos'\n",
    "\n",
    "    ruta_variable = modelos_root / variable\n",
    "    if not ruta_variable.exists() or not ruta_variable.is_dir():\n",
    "        raise FileNotFoundError(f\"No existe la carpeta de la variable: {ruta_variable}\")\n",
    "\n",
    "    nc_files = sorted(ruta_variable.glob('*.nc'))\n",
    "    if not nc_files:\n",
    "        raise FileNotFoundError(f\"No se encontraron archivos .nc en {ruta_variable}\")\n",
    "\n",
    "    modelos = [xr.open_dataset(str(archivo)) for archivo in nc_files]\n",
    "\n",
    "    print(f\"Se abrieron {len(modelos)} modelos para la variable '{variable}'.\")\n",
    "    return modelos"
   ]
  },
  {
   "cell_type": "code",
   "execution_count": 16,
   "id": "34d7ff51",
   "metadata": {},
   "outputs": [
    {
     "name": "stderr",
     "output_type": "stream",
     "text": [
      "c:\\Users\\123\\anaconda3\\envs\\clima\\Lib\\site-packages\\xarray\\conventions.py:204: SerializationWarning: variable 'clt' has multiple fill values {np.float32(1e+20), np.float64(1e+20)} defined, decoding all values to NaN.\n",
      "  var = coder.decode(var, name=name)\n"
     ]
    },
    {
     "name": "stdout",
     "output_type": "stream",
     "text": [
      "Se abrieron 7 modelos para la variable 'clt'.\n"
     ]
    },
    {
     "name": "stderr",
     "output_type": "stream",
     "text": [
      "c:\\Users\\123\\anaconda3\\envs\\clima\\Lib\\site-packages\\xarray\\conventions.py:204: SerializationWarning: variable 'pr' has multiple fill values {np.float32(1e+20), np.float64(1e+20)} defined, decoding all values to NaN.\n",
      "  var = coder.decode(var, name=name)\n"
     ]
    },
    {
     "name": "stdout",
     "output_type": "stream",
     "text": [
      "Se abrieron 7 modelos para la variable 'pr'.\n"
     ]
    },
    {
     "name": "stderr",
     "output_type": "stream",
     "text": [
      "c:\\Users\\123\\anaconda3\\envs\\clima\\Lib\\site-packages\\xarray\\conventions.py:204: SerializationWarning: variable 'rsds' has multiple fill values {np.float32(1e+20), np.float64(1e+20)} defined, decoding all values to NaN.\n",
      "  var = coder.decode(var, name=name)\n"
     ]
    },
    {
     "name": "stdout",
     "output_type": "stream",
     "text": [
      "Se abrieron 7 modelos para la variable 'rsds'.\n"
     ]
    },
    {
     "name": "stderr",
     "output_type": "stream",
     "text": [
      "c:\\Users\\123\\anaconda3\\envs\\clima\\Lib\\site-packages\\xarray\\conventions.py:204: SerializationWarning: variable 'sfcWind' has multiple fill values {np.float32(1e+20), np.float64(1e+20)} defined, decoding all values to NaN.\n",
      "  var = coder.decode(var, name=name)\n"
     ]
    },
    {
     "name": "stdout",
     "output_type": "stream",
     "text": [
      "Se abrieron 7 modelos para la variable 'sfcWind'.\n"
     ]
    },
    {
     "name": "stderr",
     "output_type": "stream",
     "text": [
      "c:\\Users\\123\\anaconda3\\envs\\clima\\Lib\\site-packages\\xarray\\conventions.py:204: SerializationWarning: variable 'tas' has multiple fill values {np.float32(1e+20), np.float64(1e+20)} defined, decoding all values to NaN.\n",
      "  var = coder.decode(var, name=name)\n"
     ]
    },
    {
     "name": "stdout",
     "output_type": "stream",
     "text": [
      "Se abrieron 7 modelos para la variable 'tas'.\n"
     ]
    }
   ],
   "source": [
    "modelos_clt = abrir_modelos('clt')\n",
    "modelos_pr = abrir_modelos('pr')\n",
    "modelos_rsds = abrir_modelos('rsds')\n",
    "modelos_sfcWind = abrir_modelos('sfcWind')\n",
    "modelos_tas = abrir_modelos('tas')"
   ]
  },
  {
   "cell_type": "markdown",
   "id": "8f98891a",
   "metadata": {},
   "source": [
    "Como los modelos tienen diferentes tamamaños de grids, vemos el tamaño de los grids de cada modelo y lo convertimos todos en el mismo tamaño"
   ]
  },
  {
   "cell_type": "code",
   "execution_count": 19,
   "id": "2280bd0d",
   "metadata": {},
   "outputs": [],
   "source": [
    "def info_grids(modelos):\n",
    "    \"\"\"\n",
    "    Dada una lista de modelos (xarray.Dataset),\n",
    "    devuelve un resumen con el tamaño y nombre de las coordenadas de cada grid.\n",
    "    \"\"\"\n",
    "    info = []\n",
    "    for i, ds in enumerate(modelos, start=1):\n",
    "        # Buscar posibles nombres de coordenadas de lat/lon\n",
    "        lat_name = next((c for c in ds.coords if 'lat' in c.lower()), None)\n",
    "        lon_name = next((c for c in ds.coords if 'lon' in c.lower()), None)\n",
    "        \n",
    "        if lat_name and lon_name:\n",
    "            lat_size = ds[lat_name].size\n",
    "            lon_size = ds[lon_name].size\n",
    "            info.append({\n",
    "                'modelo': i,\n",
    "                'lat_name': lat_name,\n",
    "                'lon_name': lon_name,\n",
    "                'lat_size': lat_size,\n",
    "                'lon_size': lon_size\n",
    "            })\n",
    "        else:\n",
    "            info.append({\n",
    "                'modelo': i,\n",
    "                'lat_name': lat_name,\n",
    "                'lon_name': lon_name,\n",
    "                'error': 'No se encontraron coordenadas lat/lon'\n",
    "            })\n",
    "    \n",
    "    return info\n"
   ]
  },
  {
   "cell_type": "markdown",
   "id": "d63b435c",
   "metadata": {},
   "source": [
    "Con mirar la lista para uno es suficiente ya que al usar los mismos modelos, en todos tendrían que tener el mismo tamaño"
   ]
  },
  {
   "cell_type": "code",
   "execution_count": 20,
   "id": "82d63949",
   "metadata": {},
   "outputs": [
    {
     "name": "stdout",
     "output_type": "stream",
     "text": [
      "{'modelo': 1, 'lat_name': 'lat', 'lon_name': 'lon', 'lat_size': 144, 'lon_size': 192}\n",
      "{'modelo': 2, 'lat_name': 'lat', 'lon_name': 'lon', 'lat_size': 145, 'lon_size': 192}\n",
      "{'modelo': 3, 'lat_name': 'lat', 'lon_name': 'lon', 'lat_size': 192, 'lon_size': 288}\n",
      "{'modelo': 4, 'lat_name': 'lat', 'lon_name': 'lon', 'lat_size': 192, 'lon_size': 288}\n",
      "{'modelo': 5, 'lat_name': 'lat', 'lon_name': 'lon', 'lat_size': 192, 'lon_size': 288}\n",
      "{'modelo': 6, 'lat_name': 'lat', 'lon_name': 'lon', 'lat_size': 160, 'lon_size': 320}\n",
      "{'modelo': 7, 'lat_name': 'lat', 'lon_name': 'lon', 'lat_size': 192, 'lon_size': 288}\n"
     ]
    }
   ],
   "source": [
    "grids_info = info_grids(modelos_clt)\n",
    "for g in grids_info:\n",
    "    print(g)"
   ]
  },
  {
   "cell_type": "code",
   "execution_count": null,
   "id": "7be1c24e",
   "metadata": {},
   "outputs": [],
   "source": [
    "def regrid_all(modelos, var_name, ref_index):\n",
    "    \"\"\"\n",
    "    Regridea todas las variables 'var_name' de los modelos (en una lista)\n",
    "    al grid del modelo de referencia indicado por ref_index.\n",
    "\n",
    "    Parámetros\n",
    "    ----------\n",
    "    modelos : list[xarray.Dataset | xarray.DataArray]\n",
    "        Lista de modelos.\n",
    "    var_name : str\n",
    "        Nombre de la variable a regridear (ej: 'clt')\n",
    "    ref_index : int\n",
    "        Índice del modelo de referencia en la lista (ej: 2 para el tercero)\n",
    "    \n",
    "    Retorna\n",
    "    -------\n",
    "    list[xarray.DataArray]\n",
    "        Lista de variables regrideadas al mismo grid.\n",
    "    \"\"\"\n",
    "    regridded = []\n",
    "    ref_model = modelos[ref_index]\n",
    "    ref_grid = ref_model[var_name] if hasattr(ref_model, 'data_vars') else ref_model\n",
    "\n",
    "    for i, model in enumerate(modelos):\n",
    "        print(f\"Procesando modelo {i} de {var_name}...\")\n",
    "        data = model[var_name] if hasattr(model, 'data_vars') else model\n",
    "        \n",
    "        if i == ref_index:\n",
    "            regridded.append(data)\n",
    "        else:\n",
    "            regridder = xe.Regridder(\n",
    "                data,\n",
    "                ref_grid,\n",
    "                method='bilinear',\n",
    "                extrap_method='nearest_s2d',\n",
    "                reuse_weights=False\n",
    "            )\n",
    "            regridded.append(regridder(data))\n",
    "    \n",
    "    return regridded"
   ]
  },
  {
   "cell_type": "code",
   "execution_count": 22,
   "id": "c8aa68f0",
   "metadata": {},
   "outputs": [
    {
     "name": "stdout",
     "output_type": "stream",
     "text": [
      "Procesando modelo 0...\n",
      "Procesando modelo 1...\n",
      "Procesando modelo 2...\n",
      "Procesando modelo 3...\n",
      "Procesando modelo 4...\n",
      "Procesando modelo 5...\n",
      "Procesando modelo 6...\n",
      "Procesando modelo 0...\n",
      "Procesando modelo 1...\n",
      "Procesando modelo 2...\n",
      "Procesando modelo 3...\n",
      "Procesando modelo 4...\n",
      "Procesando modelo 5...\n",
      "Procesando modelo 6...\n",
      "Procesando modelo 0...\n",
      "Procesando modelo 1...\n",
      "Procesando modelo 2...\n",
      "Procesando modelo 3...\n",
      "Procesando modelo 4...\n",
      "Procesando modelo 5...\n",
      "Procesando modelo 6...\n",
      "Procesando modelo 0...\n",
      "Procesando modelo 1...\n",
      "Procesando modelo 2...\n",
      "Procesando modelo 3...\n",
      "Procesando modelo 4...\n",
      "Procesando modelo 5...\n",
      "Procesando modelo 6...\n",
      "Procesando modelo 0...\n",
      "Procesando modelo 1...\n",
      "Procesando modelo 2...\n",
      "Procesando modelo 3...\n",
      "Procesando modelo 4...\n",
      "Procesando modelo 5...\n",
      "Procesando modelo 6...\n"
     ]
    }
   ],
   "source": [
    "clt_regridded = regrid_all(modelos_clt, 'clt', 3)\n",
    "pr_regridded = regrid_all(modelos_pr, 'pr', 3)\n",
    "rsds_regridded = regrid_all(modelos_rsds, 'rsds', 3)\n",
    "sfcWind_regridded = regrid_all(modelos_sfcWind, 'sfcWind', 3)\n",
    "tas_regridded = regrid_all(modelos_tas, 'tas', 3)\n"
   ]
  },
  {
   "cell_type": "markdown",
   "id": "e89fcb64",
   "metadata": {},
   "source": [
    "Comprobar que efectivamente lo hicimos bien y tienen todos tamaño: 192x288"
   ]
  },
  {
   "cell_type": "code",
   "execution_count": 23,
   "id": "7dd9f20d",
   "metadata": {},
   "outputs": [
    {
     "name": "stdout",
     "output_type": "stream",
     "text": [
      "{'modelo': 1, 'lat_name': 'lat', 'lon_name': 'lon', 'lat_size': 192, 'lon_size': 288}\n",
      "{'modelo': 2, 'lat_name': 'lat', 'lon_name': 'lon', 'lat_size': 192, 'lon_size': 288}\n",
      "{'modelo': 3, 'lat_name': 'lat', 'lon_name': 'lon', 'lat_size': 192, 'lon_size': 288}\n",
      "{'modelo': 4, 'lat_name': 'lat', 'lon_name': 'lon', 'lat_size': 192, 'lon_size': 288}\n",
      "{'modelo': 5, 'lat_name': 'lat', 'lon_name': 'lon', 'lat_size': 192, 'lon_size': 288}\n"
     ]
    }
   ],
   "source": [
    "primeros = [\n",
    "    clt_regridded[0],\n",
    "    pr_regridded[0],\n",
    "    rsds_regridded[0],\n",
    "    sfcWind_regridded[0],\n",
    "    tas_regridded[0]\n",
    "]\n",
    "grids_info = info_grids(primeros)\n",
    "for g in grids_info:\n",
    "    print(g)\n"
   ]
  },
  {
   "cell_type": "markdown",
   "id": "24a11ca1",
   "metadata": {},
   "source": [
    "Calculo de medias mensuales"
   ]
  },
  {
   "cell_type": "code",
   "execution_count": 27,
   "id": "fa39e56c",
   "metadata": {},
   "outputs": [],
   "source": [
    "def calc_monthly_means(modelos, var_name=None, start='1950-01-01', end='1980-12-31'):\n",
    "    \"\"\"\n",
    "    Calcula la media mensual (1950–1980 por defecto) para una lista de modelos.\n",
    "    \n",
    "    Parámetros\n",
    "    ----------\n",
    "    modelos : list[xarray.Dataset | xarray.DataArray]\n",
    "        Lista de modelos o variables.\n",
    "    var_name : str | None\n",
    "        Nombre de la variable si los elementos son Datasets (ej: 'clt').\n",
    "        Si ya son DataArray, déjalo en None.\n",
    "    start, end : str\n",
    "        Fechas para el rango temporal (slice).\n",
    "    \n",
    "    Retorna\n",
    "    -------\n",
    "    list[xarray.DataArray]\n",
    "        Lista con las medias mensuales de cada modelo.\n",
    "    \"\"\"\n",
    "    monthly_means = []\n",
    "    \n",
    "    for i, model in enumerate(modelos):\n",
    "\n",
    "        # Extrae la variable si es Dataset\n",
    "        data = model[var_name] if (var_name and hasattr(model, 'data_vars')) else model\n",
    "        \n",
    "        # Selección temporal y promedio mensual\n",
    "        mean_month = (\n",
    "            data\n",
    "            .sel(time=slice(start, end))\n",
    "            .groupby('time.month')\n",
    "            .mean('time')\n",
    "        )\n",
    "        \n",
    "        monthly_means.append(mean_month)\n",
    "    \n",
    "    return monthly_means\n"
   ]
  },
  {
   "cell_type": "code",
   "execution_count": 28,
   "id": "101f4411",
   "metadata": {},
   "outputs": [],
   "source": [
    "clt_monthly_means = calc_monthly_means(clt_regridded, start='1950-01-01', end='1980-12-31')\n",
    "pr_monthly_means = calc_monthly_means(pr_regridded, start='1950-01-01', end='1980-12-31')\n",
    "rsds_monthly_means = calc_monthly_means(rsds_regridded, start='1950-01-01', end='1980-12-31')\n",
    "sfcWind_monthly_means = calc_monthly_means(sfcWind_regridded, start='1950-01-01', end='1980-12-31')\n",
    "tas_monthly_means = calc_monthly_means(tas_regridded, start='1950-01-01', end='1980-12-31')\n"
   ]
  },
  {
   "cell_type": "markdown",
   "id": "76ca36cd",
   "metadata": {},
   "source": [
    "Ahora calculamos la medía del ensemble, es decir, entre todos los modelos que tenemos para cada variable sacamos la medía"
   ]
  },
  {
   "cell_type": "code",
   "execution_count": 30,
   "id": "c5d06026",
   "metadata": {},
   "outputs": [],
   "source": [
    "def ensemble_mean(models_monthly):\n",
    "    \"\"\"\n",
    "    Calcula la media del ensemble (promedio entre modelos).\n",
    "    \n",
    "    Parámetros\n",
    "    ----------\n",
    "    models_monthly : list[xarray.DataArray]\n",
    "        Lista de DataArrays con las medias mensuales de cada modelo.\n",
    "    \n",
    "    Retorna\n",
    "    -------\n",
    "    xarray.DataArray\n",
    "        DataArray con el promedio del ensemble.\n",
    "    \"\"\"\n",
    "    # Concatenamos a lo largo de un eje ficticio 'model'\n",
    "    combined = xr.concat(models_monthly, dim='model')\n",
    "    return combined.mean(dim='model')"
   ]
  },
  {
   "cell_type": "code",
   "execution_count": 33,
   "id": "f62eab11",
   "metadata": {},
   "outputs": [],
   "source": [
    "clt_ensemble_mean = ensemble_mean(clt_monthly_means)\n",
    "pr_ensemble_mean = ensemble_mean(pr_monthly_means)\n",
    "rsds_ensemble_mean = ensemble_mean(rsds_monthly_means)\n",
    "sfcWind_ensemble_mean = ensemble_mean(sfcWind_monthly_means)\n",
    "tas_ensemble_mean = ensemble_mean(tas_monthly_means)"
   ]
  },
  {
   "cell_type": "markdown",
   "id": "b1af2c9f",
   "metadata": {},
   "source": [
    "Convertimos los resultados a un dataframe para poder importarlos a un .csv y .cn"
   ]
  },
  {
   "cell_type": "code",
   "execution_count": 40,
   "id": "13f02156",
   "metadata": {},
   "outputs": [],
   "source": [
    "\n",
    "# Creamos las combinaciones lat-lon-time a partir de uno de los DataArray\n",
    "lat = clt_ensemble_mean['lat'].values\n",
    "lon = clt_ensemble_mean['lon'].values\n",
    "time = clt_ensemble_mean['month'].values\n",
    "\n",
    "# Crear el índice combinando todas las coordenadas\n",
    "import itertools\n",
    "index = [f\"{t}_{la}_{lo}\" for t, la, lo in itertools.product(time, lat, lon)]"
   ]
  },
  {
   "cell_type": "code",
   "execution_count": 41,
   "id": "bea3a690",
   "metadata": {},
   "outputs": [],
   "source": [
    "df = pd.DataFrame({\n",
    "    'clt_ensemble_mean': clt_ensemble_mean.values.flatten(),\n",
    "    'pr_ensemble_mean': pr_ensemble_mean.values.flatten(),\n",
    "    'rsds_ensemble_mean': rsds_ensemble_mean.values.flatten(),\n",
    "    'sfcWind_ensemble_mean': sfcWind_ensemble_mean.values.flatten(),\n",
    "    'tas_ensemble_mean': tas_ensemble_mean.values.flatten()\n",
    "}, index=index)"
   ]
  },
  {
   "cell_type": "code",
   "execution_count": 42,
   "id": "55130e63",
   "metadata": {},
   "outputs": [],
   "source": [
    "df.to_csv('ensemble_modelos.csv', index=True)"
   ]
  }
 ],
 "metadata": {
  "kernelspec": {
   "display_name": "clima",
   "language": "python",
   "name": "python3"
  },
  "language_info": {
   "codemirror_mode": {
    "name": "ipython",
    "version": 3
   },
   "file_extension": ".py",
   "mimetype": "text/x-python",
   "name": "python",
   "nbconvert_exporter": "python",
   "pygments_lexer": "ipython3",
   "version": "3.11.13"
  }
 },
 "nbformat": 4,
 "nbformat_minor": 5
}
